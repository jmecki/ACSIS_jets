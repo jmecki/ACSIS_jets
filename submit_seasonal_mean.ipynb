{
 "cells": [
  {
   "cell_type": "code",
   "execution_count": 1,
   "id": "1e2a1059-e1f0-4d01-9138-ffb8fd65577a",
   "metadata": {},
   "outputs": [],
   "source": [
    "import glob\n",
    "import os\n",
    "import jCMIP as jc\n",
    "\n",
    "Clist = jc.readList('../CMIP6list')"
   ]
  },
  {
   "cell_type": "code",
   "execution_count": 12,
   "id": "4603c644-2e4f-4b69-a5c0-decf3602c135",
   "metadata": {},
   "outputs": [],
   "source": [
    "EXP   = 'piControl'\n",
    "var   = 'tos'\n",
    "vtype = 'Omon'\n",
    "var   = 'psl'\n",
    "vtype = 'Amon'"
   ]
  },
  {
   "cell_type": "code",
   "execution_count": 13,
   "id": "64fbd483-a7f2-4086-9411-88889be6b4f9",
   "metadata": {},
   "outputs": [],
   "source": [
    "dataBen = '/gws/nopw/j04/acsis/bjharvey/storylines/data/JetDiags/'\n",
    "BenType      = '0to60W'\n",
    "\n",
    "datadir = '/gws/nopw/j04/acsis/jmecking/CMIP6/'"
   ]
  },
  {
   "cell_type": "code",
   "execution_count": 20,
   "id": "84570df7-46df-46ae-bce6-fdce8aa3e6f7",
   "metadata": {},
   "outputs": [],
   "source": [
    "sname = 'DJF'\n",
    "mons  = '12,1,2'\n",
    "sname = 'MAM'\n",
    "mons  = '3,4,5'\n",
    "sname = 'JJA'\n",
    "mons  = '6,7,8'\n",
    "sname = 'SON'\n",
    "mons  = '9,10,11'"
   ]
  },
  {
   "cell_type": "code",
   "execution_count": 21,
   "id": "8c962b10-7d4f-4b32-b32a-8a32bb50c3cf",
   "metadata": {},
   "outputs": [
    {
     "name": "stdout",
     "output_type": "stream",
     "text": [
      "TaiESM1\n",
      "AWI-CM-1-1-MR\n",
      "AWI-ESM-1-1-LR\n",
      "BCC-CSM2-MR\n",
      "BCC-ESM1\n",
      "CAMS-CSM1-0\n",
      "CAS-ESM2-0\n",
      "FGOALS-f3-L\n",
      "FGOALS-g3\n",
      "IITM-ESM\n",
      "CanESM5-CanOE\n",
      "CanESM5\n",
      "CanESM5\n",
      "CMCC-CM2-SR5\n",
      "CNRM-CM6-1-HR\n",
      "CNRM-CM6-1\n",
      "CNRM-ESM2-1\n",
      "ACCESS-CM2\n",
      "ACCESS-ESM1-5\n",
      "E3SM-1-0\n",
      "E3SM-1-1-ECA\n",
      "E3SM-1-1\n",
      "EC-Earth3-AerChem\n",
      "EC-Earth3-LR\n",
      "EC-Earth3-Veg-LR\n",
      "EC-Earth3-Veg\n",
      "EC-Earth3\n",
      "FIO-ESM-2-0\n",
      "MPI-ESM-1-2-HAM\n",
      "INM-CM4-8\n",
      "INM-CM5-0\n",
      "IPSL-CM6A-LR\n",
      "IPSL-CM6A-LR\n",
      "KIOST-ESM\n",
      "MIROC-ES2L\n",
      "MIROC6\n",
      "HadGEM3-GC31-LL\n",
      "HadGEM3-GC31-MM\n",
      "UKESM1-0-LL\n",
      "MPI-ESM1-2-HR\n",
      "MPI-ESM1-2-LR\n",
      "MRI-ESM2-0\n",
      "GISS-E2-1-G-CC\n",
      "GISS-E2-1-G\n",
      "GISS-E2-1-H\n",
      "GISS-E2-2-G\n",
      "CESM2-FV2\n",
      "CESM2-WACCM-FV2\n",
      "CESM2-WACCM\n",
      "CESM2\n",
      "NorCPM1\n",
      "NorESM1-F\n",
      "NorESM2-MM\n",
      "GFDL-CM4\n",
      "GFDL-ESM4\n",
      "NESM3\n",
      "SAM0-UNICON\n",
      "CIESM\n",
      "MCM-UA-1-0\n"
     ]
    }
   ],
   "source": [
    "# Loop through all files and compute if it hasn't be computed yet:\n",
    "Files = glob.glob(dataBen + '*' + EXP + '*' + BenType + '_fromseasmean.nc')\n",
    "for file in Files:\n",
    "    Model = Clist[file.split('_')[2]]\n",
    "    ENS   = file.split('_')[4]\n",
    "    print(Model.name)\n",
    "    if ((Model.Ogrid != 'Unstructured') & (Model.Ogrid != 'Unknown') & (Model.Ogrid != 'None')):\n",
    "        outfile = (datadir + Model.name + '/' + EXP + '/' + var + '_' + Model.name + '_' + EXP + '_' + ENS + '_' + sname + '.nc')\n",
    "        if not os.path.isfile(outfile):\n",
    "            varFiles = Model.getFiles(var,EXP=EXP,ENS=ENS,vtype=vtype,gtype='gn')\n",
    "            if (len(varFiles) != 0):\n",
    "                # Generate submit script for lotus:\n",
    "                lfile = ('slurm_files/' + sname + '_' + var + '_' + Model.name + '_' +  EXP + '_' + ENS + '.slurm')\n",
    "                line1 = '#!/bin/bash \\n'\n",
    "                line2 = '#SBATCH -p short-serial-4hr \\n'\n",
    "                line4 = '#SBATCH -o %J.out \\n'\n",
    "                line5 = '#SBATCH -e %J.err \\n'\n",
    "                line6 = '#SBATCH --time 3:00:00 \\n'\n",
    "                line7 = '\\n'\n",
    "                line8 = 'conda activate working \\n'\n",
    "                line9 = ('python ../compute_seasonal_mean.py ' + Model.name + ' ' + EXP + ' ' + ENS + ' ' + var + ' ' + vtype + ' ' + \n",
    "                        mons + ' ' + outfile + ' ' + lfile)\n",
    "                file = open(lfile,'w')\n",
    "                file.writelines([line1, line2, line4, line5, line6, line7, line8, line9]) \n",
    "                file.close()"
   ]
  },
  {
   "cell_type": "code",
   "execution_count": null,
   "id": "0f23a2e9-b4dd-4294-9b78-8c30cf190090",
   "metadata": {},
   "outputs": [],
   "source": []
  }
 ],
 "metadata": {
  "kernelspec": {
   "display_name": "Python 3",
   "language": "python",
   "name": "python3"
  },
  "language_info": {
   "codemirror_mode": {
    "name": "ipython",
    "version": 3
   },
   "file_extension": ".py",
   "mimetype": "text/x-python",
   "name": "python",
   "nbconvert_exporter": "python",
   "pygments_lexer": "ipython3",
   "version": "3.7.10"
  }
 },
 "nbformat": 4,
 "nbformat_minor": 5
}
