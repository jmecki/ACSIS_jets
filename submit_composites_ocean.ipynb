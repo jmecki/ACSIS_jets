{
 "cells": [
  {
   "cell_type": "code",
   "execution_count": 4,
   "id": "edd33fea-029e-475d-a660-4e9564ef590f",
   "metadata": {},
   "outputs": [
    {
     "name": "stdout",
     "output_type": "stream",
     "text": [
      "The autoreload extension is already loaded. To reload it, use:\n",
      "  %reload_ext autoreload\n"
     ]
    }
   ],
   "source": [
    "%load_ext autoreload\n",
    "%autoreload 2\n",
    "\n",
    "import jCMIP as jc\n",
    "import glob"
   ]
  },
  {
   "cell_type": "code",
   "execution_count": 14,
   "id": "4b72a571-f3a3-4be4-86db-39884b67fb94",
   "metadata": {},
   "outputs": [],
   "source": [
    "cmip = '6'\n",
    "EXP  = 'piControl'\n",
    "lag  = '-3,-2,-1,0,1,2,3,4,5'\n",
    "\n",
    "var  = 'zos'\n",
    "season_field = ['DJF', 'MAM', 'JJA', 'SON']\n",
    "\n",
    "var_ts       = ['max_vals_eastward_wind_', 'max_lats_eastward_wind_']\n",
    "nvar_ts      = ['max_wind', 'max_lats']\n",
    "season_ts    = ['DJF', 'MAM', 'JJA', 'SON']\n",
    "BenType = '0to60W_fromseasmean'\n",
    "\n",
    "# Directory/file details:\n",
    "dataBen = '/gws/nopw/j04/acsis/bjharvey/storylines/data/JetDiags/'\n",
    "BenType = '0to60W_fromseasmean'\n",
    "datadir = '/gws/nopw/j04/acsis/jmecking/CMIP6/'"
   ]
  },
  {
   "cell_type": "code",
   "execution_count": 16,
   "id": "5d9a0507-1b3a-4857-905f-0c5dda197ece",
   "metadata": {
    "tags": []
   },
   "outputs": [
    {
     "name": "stdout",
     "output_type": "stream",
     "text": [
      "DJF  DJF\n",
      "/gws/nopw/j04/acsis/jmecking/CMIP6/composites/piControl_max_lats-DJF_zos-DJF_std.nc\n",
      "DJF  MAM\n",
      "/gws/nopw/j04/acsis/jmecking/CMIP6/composites/piControl_max_lats-MAM_zos-DJF_std.nc\n",
      "DJF  JJA\n",
      "/gws/nopw/j04/acsis/jmecking/CMIP6/composites/piControl_max_lats-JJA_zos-DJF_std.nc\n",
      "DJF  SON\n",
      "/gws/nopw/j04/acsis/jmecking/CMIP6/composites/piControl_max_lats-SON_zos-DJF_std.nc\n",
      "MAM  DJF\n",
      "/gws/nopw/j04/acsis/jmecking/CMIP6/composites/piControl_max_lats-DJF_zos-MAM_std.nc\n",
      "MAM  MAM\n",
      "/gws/nopw/j04/acsis/jmecking/CMIP6/composites/piControl_max_lats-MAM_zos-MAM_std.nc\n",
      "MAM  JJA\n",
      "/gws/nopw/j04/acsis/jmecking/CMIP6/composites/piControl_max_lats-JJA_zos-MAM_std.nc\n",
      "MAM  SON\n",
      "/gws/nopw/j04/acsis/jmecking/CMIP6/composites/piControl_max_lats-SON_zos-MAM_std.nc\n",
      "JJA  DJF\n",
      "/gws/nopw/j04/acsis/jmecking/CMIP6/composites/piControl_max_lats-DJF_zos-JJA_std.nc\n",
      "JJA  MAM\n",
      "/gws/nopw/j04/acsis/jmecking/CMIP6/composites/piControl_max_lats-MAM_zos-JJA_std.nc\n",
      "JJA  JJA\n",
      "/gws/nopw/j04/acsis/jmecking/CMIP6/composites/piControl_max_lats-JJA_zos-JJA_std.nc\n",
      "JJA  SON\n",
      "/gws/nopw/j04/acsis/jmecking/CMIP6/composites/piControl_max_lats-SON_zos-JJA_std.nc\n",
      "SON  DJF\n",
      "/gws/nopw/j04/acsis/jmecking/CMIP6/composites/piControl_max_lats-DJF_zos-SON_std.nc\n",
      "SON  MAM\n",
      "/gws/nopw/j04/acsis/jmecking/CMIP6/composites/piControl_max_lats-MAM_zos-SON_std.nc\n",
      "SON  JJA\n",
      "/gws/nopw/j04/acsis/jmecking/CMIP6/composites/piControl_max_lats-JJA_zos-SON_std.nc\n",
      "SON  SON\n",
      "/gws/nopw/j04/acsis/jmecking/CMIP6/composites/piControl_max_lats-SON_zos-SON_std.nc\n"
     ]
    }
   ],
   "source": [
    "for sf in season_field:\n",
    "    for st in season_ts:\n",
    "        print(sf + '  ' + st)\n",
    "        \n",
    "        # Output file:\n",
    "        outfile = (datadir + 'composites/' + EXP + '_' + nvar_ts + '-' + st + '_' + var + '-' + sf +'_std.nc')\n",
    "        print(outfile)\n"
   ]
  },
  {
   "cell_type": "code",
   "execution_count": null,
   "id": "f3d3cb6d-6d1f-4e4f-958a-1092313d8522",
   "metadata": {},
   "outputs": [],
   "source": []
  },
  {
   "cell_type": "code",
   "execution_count": null,
   "id": "5f2e0d72-fa6b-407e-b9a3-b2b3f123276a",
   "metadata": {
    "tags": []
   },
   "outputs": [],
   "source": [
    "    Models = list(Clist.keys())\n",
    "    for mm in Models:\n",
    "        Model = Clist[mm]\n",
    "        print(Model.name)\n",
    "        if ((Model.Ogrid != 'Unstructured')):                \n",
    "            for var in vars:\n",
    "                for EXP in EXPs:\n",
    "                    ENSs = Model.getENSs(var=var,EXP=EXP,vtype=vtype,gtype='*')\n",
    "                    for ENS in ENSs:\n",
    "                        gtype = 'gn'\n",
    "                        # Check if files needed for computation exist:\n",
    "                        Files = Model.getFiles(var=var,EXP=EXP,ENS=ENS,vtype=vtype,gtype=gtype)\n",
    "                        if ((len(Files) == 0) & (cmip == '6')):\n",
    "                            gtype = 'gr'\n",
    "                            Files = Model.getFiles(var=var,EXP=EXP,ENS=ENS,vtype=vtype,gtype=gtype)\n",
    "                            if ((len(Files) == 0) & (cmip == '6')):\n",
    "                                gtype = 'gr1'\n",
    "                                Files = Model.getFiles(var=var,EXP=EXP,ENS=ENS,vtype=vtype,gtype=gtype)\n",
    "\n",
    "                        if len(Files) != 0:\n",
    "                            # Check if computation has already been completed:\n",
    "                            outfile = ('/home/users/jmecking001/DATADIR/ACSIS/CMIP' + cmip + '/' + Model.name + '/' + EXP + '/' + ENS + '/' + var + '_' + Model.name + '_' + EXP + '_'\n",
    "                                           + ENS + '_' + gtype + '_' + str(styr) + '01-' + str(fnyr) + '12_SC.nc')\n",
    "                            \n",
    "                            if not os.path.isfile(outfile):\n",
    "                                Files.sort()\n",
    "                                stf = int(Files[0].split('_')[-1].split('-')[0][:4])\n",
    "                                fnf = int(Files[-1].split('_')[-1].split('-')[1][:4])\n",
    "                                if ((stf <= styr) & (fnf >= fnyr)):\n",
    "                                    print('computing: ' + outfile)\n",
    "                                    # Generate submit script for lotus:\n",
    "                                    lfile = ('slurm_files/SC_mean_' + var + '_' + Model.name + '_' +  EXP + '_' + ENS + '.slurm')\n",
    "\n",
    "                                    line1 = '#!/bin/bash \\n'\n",
    "                                    line2 = '#SBATCH --account=short4hr \\n'\n",
    "                                    line3 = '#SBATCH -p short-serial-4hr \\n'\n",
    "                                    line4 = '#SBATCH -o %J.out \\n'\n",
    "                                    line5 = '#SBATCH -e %J.err \\n'\n",
    "                                    line6 = '#SBATCH --time 4:00:00 \\n'\n",
    "                                    line7 = '\\n'\n",
    "                                    line8 = 'conda activate working \\n'\n",
    "                                    line9 = ('python ../compute_means_SC.py ' + cmip + ' ' + Model.name + ' ' + EXP + ' ' + ENS + ' '\n",
    "                                    + var + ' ' + vtype + ' ' + str(styr) + ' ' + str(fnyr) + ' ' + outfile + ' ' + gtype + ' ../' + lfile)\n",
    "\n",
    "                                    # Out of memory models (second pass):\n",
    "                                    #line2 = '#SBATCH -p high-mem \\n'\n",
    "                                    #line3 = '#SBATCH --mem=32000 \\n'\n",
    "\n",
    "                                    file = open(lfile,'w') \n",
    "                                    file.writelines([line1, line2, line3, line4, line5, line6, line7, line8, line9])\n",
    "\n",
    "                                    file.close()"
   ]
  },
  {
   "cell_type": "code",
   "execution_count": null,
   "id": "d1d271db-673e-4e26-8e4d-d048864a386d",
   "metadata": {},
   "outputs": [],
   "source": []
  }
 ],
 "metadata": {
  "kernelspec": {
   "display_name": "working",
   "language": "python",
   "name": "working"
  },
  "language_info": {
   "codemirror_mode": {
    "name": "ipython",
    "version": 3
   },
   "file_extension": ".py",
   "mimetype": "text/x-python",
   "name": "python",
   "nbconvert_exporter": "python",
   "pygments_lexer": "ipython3",
   "version": "3.7.12"
  }
 },
 "nbformat": 4,
 "nbformat_minor": 5
}
